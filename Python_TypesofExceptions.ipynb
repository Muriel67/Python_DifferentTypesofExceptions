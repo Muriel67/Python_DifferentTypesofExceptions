{
 "cells": [
  {
   "cell_type": "markdown",
   "id": "e1648393",
   "metadata": {},
   "source": [
    "# PYTHON EXCEPTIONS"
   ]
  },
  {
   "cell_type": "markdown",
   "id": "14a532c8",
   "metadata": {},
   "source": [
    "This documents contains different types of python exceptions with examples related to each exceptions.\n",
    "This document is prepared for better understanding ang to give more details bout the different types of exceptions which arises in python.\n"
   ]
  },
  {
   "cell_type": "markdown",
   "id": "882409d1",
   "metadata": {},
   "source": [
    "BaseException\n",
    " ├── BaseExceptionGroup\n",
    " ├── GeneratorExit\n",
    " ├── KeyboardInterrupt\n",
    " ├── SystemExit\n",
    " └── Exception\n",
    "      ├── ArithmeticError\n",
    "      │    ├── FloatingPointError\n",
    "      │    ├── OverflowError\n",
    "      │    └── ZeroDivisionError\n",
    "      ├── AssertionError\n",
    "      ├── AttributeError\n",
    "      ├── BufferError\n",
    "      ├── EOFError\n",
    "      ├── ExceptionGroup [BaseExceptionGroup]\n",
    "      ├── ImportError\n",
    "      │    └── ModuleNotFoundError\n",
    "      ├── LookupError\n",
    "      │    ├── IndexError\n",
    "      │    └── KeyError\n",
    "      ├── MemoryError\n",
    "      ├── NameError\n",
    "      │    └── UnboundLocalError\n",
    "      ├── OSError\n",
    "      │    ├── BlockingIOError\n",
    "      │    ├── ChildProcessError\n",
    "      │    ├── ConnectionError\n",
    "      │    │    ├── BrokenPipeError\n",
    "      │    │    ├── ConnectionAbortedError\n",
    "      │    │    ├── ConnectionRefusedError\n",
    "      │    │    └── ConnectionResetError\n",
    "      │    ├── FileExistsError\n",
    "      │    ├── FileNotFoundError\n",
    "      │    ├── InterruptedError\n",
    "      │    ├── IsADirectoryError\n",
    "      │    ├── NotADirectoryError\n",
    "      │    ├── PermissionError\n",
    "      │    ├── ProcessLookupError\n",
    "      │    └── TimeoutError\n",
    "      ├── ReferenceError\n",
    "      ├── RuntimeError\n",
    "      │    ├── NotImplementedError\n",
    "      │    └── RecursionError\n",
    "      ├── StopAsyncIteration\n",
    "      ├── StopIteration\n",
    "      ├── SyntaxError\n",
    "      │    └── IndentationError\n",
    "      │         └── TabError\n",
    "      ├── SystemError\n",
    "      ├── TypeError\n",
    "      ├── ValueError\n",
    "      │    └── UnicodeError\n",
    "      │         ├── UnicodeDecodeError\n",
    "      │         ├── UnicodeEncodeError\n",
    "      │         └── UnicodeTranslateError\n",
    "      └── Warning\n",
    "           ├── BytesWarning\n",
    "           ├── DeprecationWarning\n",
    "           ├── EncodingWarning\n",
    "           ├── FutureWarning\n",
    "           ├── ImportWarning\n",
    "           ├── PendingDeprecationWarning\n",
    "           ├── ResourceWarning\n",
    "           ├── RuntimeWarning\n",
    "           ├── SyntaxWarning\n",
    "           ├── UnicodeWarning\n",
    "           └── UserWarning"
   ]
  },
  {
   "cell_type": "markdown",
   "id": "366d1e68",
   "metadata": {},
   "source": [
    "# StopIteration \n",
    "Raised when the next() method of an iterator does not point to any object \n",
    "\n",
    "What is an iterator ?\n",
    "Iterator is an object which holds values which can be iterated upon .\n",
    "It uses __next__() method to move to the next value in the iterator.\n",
    "When the __next__() method tries to move to the next values but there are no new values. StopIteration exception is raised \n",
    "\n",
    "source : www.pylenin.com/blogs/stop-iteration-exception/"
   ]
  },
  {
   "cell_type": "markdown",
   "id": "9102721d",
   "metadata": {},
   "source": [
    "## Example 1 for StopIterationException"
   ]
  },
  {
   "cell_type": "code",
   "execution_count": 6,
   "id": "d9241b37",
   "metadata": {},
   "outputs": [
    {
     "name": "stdout",
     "output_type": "stream",
     "text": [
      "1\n",
      "2\n",
      "3\n",
      "4\n"
     ]
    },
    {
     "ename": "StopIteration",
     "evalue": "",
     "output_type": "error",
     "traceback": [
      "\u001b[1;31m---------------------------------------------------------------------------\u001b[0m",
      "\u001b[1;31mStopIteration\u001b[0m                             Traceback (most recent call last)",
      "Input \u001b[1;32mIn [6]\u001b[0m, in \u001b[0;36m<cell line: 7>\u001b[1;34m()\u001b[0m\n\u001b[0;32m      5\u001b[0m \u001b[38;5;28mprint\u001b[39m(y\u001b[38;5;241m.\u001b[39m\u001b[38;5;21m__next__\u001b[39m())\n\u001b[0;32m      6\u001b[0m \u001b[38;5;28mprint\u001b[39m(y\u001b[38;5;241m.\u001b[39m\u001b[38;5;21m__next__\u001b[39m())\n\u001b[1;32m----> 7\u001b[0m \u001b[38;5;28mprint\u001b[39m(\u001b[43my\u001b[49m\u001b[38;5;241;43m.\u001b[39;49m\u001b[38;5;21;43m__next__\u001b[39;49m\u001b[43m(\u001b[49m\u001b[43m)\u001b[49m)\n",
      "\u001b[1;31mStopIteration\u001b[0m: "
     ]
    }
   ],
   "source": [
    "x = [1,2,3,4]\n",
    "y = iter(x)\n",
    "print(y.__next__())\n",
    "print(y.__next__())\n",
    "print(y.__next__())\n",
    "print(y.__next__())\n",
    "print(y.__next__())"
   ]
  },
  {
   "cell_type": "markdown",
   "id": "4570f197",
   "metadata": {},
   "source": [
    "## Example 2 for StopIterationException"
   ]
  },
  {
   "cell_type": "code",
   "execution_count": 9,
   "id": "a463679b",
   "metadata": {},
   "outputs": [
    {
     "name": "stdout",
     "output_type": "stream",
     "text": [
      "h\n",
      "e\n",
      "l\n",
      "l\n",
      "o\n"
     ]
    },
    {
     "ename": "StopIteration",
     "evalue": "",
     "output_type": "error",
     "traceback": [
      "\u001b[1;31m---------------------------------------------------------------------------\u001b[0m",
      "\u001b[1;31mStopIteration\u001b[0m                             Traceback (most recent call last)",
      "Input \u001b[1;32mIn [9]\u001b[0m, in \u001b[0;36m<cell line: 8>\u001b[1;34m()\u001b[0m\n\u001b[0;32m      6\u001b[0m \u001b[38;5;28mprint\u001b[39m(y\u001b[38;5;241m.\u001b[39m\u001b[38;5;21m__next__\u001b[39m())\n\u001b[0;32m      7\u001b[0m \u001b[38;5;28mprint\u001b[39m(y\u001b[38;5;241m.\u001b[39m\u001b[38;5;21m__next__\u001b[39m())\n\u001b[1;32m----> 8\u001b[0m \u001b[38;5;28mprint\u001b[39m(\u001b[43my\u001b[49m\u001b[38;5;241;43m.\u001b[39;49m\u001b[38;5;21;43m__next__\u001b[39;49m\u001b[43m(\u001b[49m\u001b[43m)\u001b[49m)\n",
      "\u001b[1;31mStopIteration\u001b[0m: "
     ]
    }
   ],
   "source": [
    "x = \"hello\"\n",
    "y = iter(x)\n",
    "print(y.__next__())\n",
    "print(y.__next__())\n",
    "print(y.__next__())\n",
    "print(y.__next__())\n",
    "print(y.__next__())\n",
    "print(y.__next__())"
   ]
  },
  {
   "cell_type": "markdown",
   "id": "2aee2626",
   "metadata": {},
   "source": [
    "How to catch StopIteration ??\n",
    "Use the StopIteration Class"
   ]
  },
  {
   "cell_type": "code",
   "execution_count": 13,
   "id": "ed70841e",
   "metadata": {},
   "outputs": [
    {
     "name": "stdout",
     "output_type": "stream",
     "text": [
      "1\n",
      "2\n",
      "3\n",
      "4\n",
      "StopIteration Exception is handled\n"
     ]
    }
   ],
   "source": [
    "x = [1,2,3,4]\n",
    "y = iter(x)\n",
    "try:\n",
    "    print(y.__next__())\n",
    "    print(y.__next__())\n",
    "    print(y.__next__())\n",
    "    print(y.__next__())\n",
    "    print(y.__next__())\n",
    "    print(y.__next__())\n",
    "except StopIteration as e:\n",
    "    print(\"StopIteration Exception is handled\")"
   ]
  },
  {
   "cell_type": "markdown",
   "id": "12bf860f",
   "metadata": {},
   "source": [
    "# ArithmeticError\n",
    "Base class for all errors involving numeric calculation. It occurs when an error is encountered during numeri calculations.\n",
    "Under arithmetic error \n",
    "1) FloatingPoint Error\n",
    "2) Overflow error\n",
    "3) ZeroDivision Error"
   ]
  },
  {
   "cell_type": "code",
   "execution_count": null,
   "id": "f0703aa5",
   "metadata": {},
   "outputs": [],
   "source": []
  }
 ],
 "metadata": {
  "kernelspec": {
   "display_name": "Python 3 (ipykernel)",
   "language": "python",
   "name": "python3"
  },
  "language_info": {
   "codemirror_mode": {
    "name": "ipython",
    "version": 3
   },
   "file_extension": ".py",
   "mimetype": "text/x-python",
   "name": "python",
   "nbconvert_exporter": "python",
   "pygments_lexer": "ipython3",
   "version": "3.10.0"
  }
 },
 "nbformat": 4,
 "nbformat_minor": 5
}
